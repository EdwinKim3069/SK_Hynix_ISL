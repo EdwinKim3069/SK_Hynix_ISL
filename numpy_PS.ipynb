{
 "cells": [
  {
   "cell_type": "markdown",
   "metadata": {},
   "source": [
    "# Numpy 예제"
   ]
  },
  {
   "cell_type": "code",
   "execution_count": 1,
   "metadata": {},
   "outputs": [],
   "source": [
    "import numpy as np"
   ]
  },
  {
   "cell_type": "markdown",
   "metadata": {},
   "source": [
    "**예제 1. np.arange()과 reshape() 메소드를 이용해 아래와 같은 array(matrix)를 생성하시오**\n",
    "\n",
    "a = array([[ 1,  4,  7, 10],<br>\n",
    "          [13, 16, 19, 22],<br>\n",
    "          [25, 28, 31, 34]])"
   ]
  },
  {
   "cell_type": "markdown",
   "metadata": {},
   "source": [
    "**예제 2. 위에서 생성한 array의 행의 개수(num_row)와 열의 개수(num_col)를 추출하시오**"
   ]
  },
  {
   "cell_type": "markdown",
   "metadata": {},
   "source": [
    "**예제 3. 두 matrix에 대해서 요소별로 각각 큰 값을 저장하는 array(matrix)를 생성하시오**\n",
    "\n",
    "예)\n",
    "\n",
    "두 array에 대하여\n",
    "\n",
    "array([[1 , 2],<br>\n",
    "       [4, 5]])<br>\n",
    "\n",
    "array([[2 , 1],<br>\n",
    "       [3, 7]])<br>\n",
    "       \n",
    "**-> result:**<br>\n",
    "array([[2, 2],<br>\n",
    "       [4, 7]])<br>"
   ]
  },
  {
   "cell_type": "code",
   "execution_count": 2,
   "metadata": {},
   "outputs": [
    {
     "name": "stdout",
     "output_type": "stream",
     "text": [
      "a: [[0.5488135  0.71518937 0.60276338]\n",
      " [0.54488318 0.4236548  0.64589411]\n",
      " [0.43758721 0.891773   0.96366276]]\n",
      "b: [[0.38344152 0.79172504 0.52889492]\n",
      " [0.56804456 0.92559664 0.07103606]\n",
      " [0.0871293  0.0202184  0.83261985]]\n"
     ]
    }
   ],
   "source": [
    "## test case ##\n",
    "np.random.seed(0)\n",
    "a = np.random.random((3, 3))\n",
    "b = np.random.random((3, 3))\n",
    "print('a:', a)\n",
    "print('b:', b)"
   ]
  },
  {
   "cell_type": "markdown",
   "metadata": {},
   "source": [
    "array([[0.5488135 , 0.79172504, 0.60276338],<br>\n",
    "       [0.56804456, 0.92559664, 0.64589411],<br>\n",
    "       [0.43758721, 0.891773  , 0.96366276]])"
   ]
  },
  {
   "cell_type": "markdown",
   "metadata": {},
   "source": [
    "**예제 4. 예제3에서 구현한 코드를 이용하여 어떤 matrix에 대해 각각의 값(요소)이 음수일 때는 0, 양수일 때는 그 값을 그대로 저장하는 코드를 구현하시오**\n",
    "\n",
    "예)\n",
    "\n",
    "a = array([[ 1.76405235,  0.40015721,  0.97873798],<br>\n",
    "       [ 2.2408932 ,  1.86755799, -0.97727788],<br>\n",
    "       [ 0.95008842, -0.15135721, -0.10321885]])\n",
    "       \n",
    "**-> result:**<br>\n",
    "array([[1.76405235, 0.40015721, 0.97873798],<br>\n",
    "       [2.2408932 , 1.86755799, 0.        ],<br>\n",
    "       [0.95008842, 0.        , 0.        ]])"
   ]
  },
  {
   "cell_type": "code",
   "execution_count": 3,
   "metadata": {},
   "outputs": [
    {
     "name": "stdout",
     "output_type": "stream",
     "text": [
      "[[ 1.76405235  0.40015721  0.97873798  2.2408932   1.86755799]\n",
      " [-0.97727788  0.95008842 -0.15135721 -0.10321885  0.4105985 ]\n",
      " [ 0.14404357  1.45427351  0.76103773  0.12167502  0.44386323]\n",
      " [ 0.33367433  1.49407907 -0.20515826  0.3130677  -0.85409574]\n",
      " [-2.55298982  0.6536186   0.8644362  -0.74216502  2.26975462]]\n"
     ]
    }
   ],
   "source": [
    "np.random.seed(0)\n",
    "a = np.random.randn(5, 5)  # np.random.randn은 argument로 튜플을 받지 않음에 주의\n",
    "print(a)"
   ]
  },
  {
   "cell_type": "markdown",
   "metadata": {},
   "source": [
    "array([[1.76405235, 0.40015721, 0.97873798, 2.2408932 , 1.86755799],<br>\n",
    "       [0.        , 0.95008842, 0.        , 0.        , 0.4105985 ],<br>\n",
    "       [0.14404357, 1.45427351, 0.76103773, 0.12167502, 0.44386323],<br>\n",
    "       [0.33367433, 1.49407907, 0.        , 0.3130677 , 0.        ],<br>\n",
    "       [0.        , 0.6536186 , 0.8644362 , 0.        , 2.26975462]])"
   ]
  },
  {
   "cell_type": "markdown",
   "metadata": {},
   "source": [
    "**예제 5. 어떤 matrix에 대해 각 요소가 0.5 이상이면 1, 0.5 이하면 0을 저장하는 코드를 구현하시오**\n",
    "\n",
    "예)\n",
    "\n",
    "a = array([[0.94374808, 0.6818203 ],<br>\n",
    "       [0.3595079 , 0.43703195]])<br>\n",
    "       \n",
    "**-> result:**<br>\n",
    "array([[1., 1.],<br>\n",
    "       [0., 0.]])"
   ]
  },
  {
   "cell_type": "code",
   "execution_count": 4,
   "metadata": {},
   "outputs": [
    {
     "name": "stdout",
     "output_type": "stream",
     "text": [
      "[[0.5488135  0.71518937 0.60276338 0.54488318]\n",
      " [0.4236548  0.64589411 0.43758721 0.891773  ]\n",
      " [0.96366276 0.38344152 0.79172504 0.52889492]]\n"
     ]
    }
   ],
   "source": [
    "np.random.seed(0)\n",
    "a = np.random.random((3, 4))\n",
    "print(a)"
   ]
  },
  {
   "cell_type": "markdown",
   "metadata": {},
   "source": [
    "array([[1., 1., 1., 1.],<br>\n",
    "       [0., 1., 0., 1.],<br>\n",
    "       [1., 0., 1., 1.]])"
   ]
  },
  {
   "cell_type": "markdown",
   "metadata": {},
   "source": [
    "**예제 6. 아래와 같은 matrix생성 후 np.sum을 이용하여 각 열들의 합과 각 행들의 합을 구하시오**\n",
    "\n",
    "a = np.arange(1, 10).reshape(3, 3)"
   ]
  },
  {
   "cell_type": "markdown",
   "metadata": {},
   "source": [
    "각 열들의 합:<br>\n",
    "array([[ 6],<br>\n",
    "       [15],<br>\n",
    "       [24]])<br>\n",
    "       \n",
    "각 행들의 합:<br>\n",
    "array([[12, 15, 18]])"
   ]
  },
  {
   "cell_type": "markdown",
   "metadata": {},
   "source": [
    "**예제 7. np.concatenate()를 이용하여 아래와 같은 결과를 보이시오**\n",
    "\n",
    "a = array([[1, 2], [3, 4])<br>\n",
    "b = array([[5, 6], [7, 8])<br>\n",
    "c = array([[9, 10]])"
   ]
  },
  {
   "cell_type": "markdown",
   "metadata": {},
   "source": [
    "**Result:**\n",
    "\n",
    "array([[1, 2],<br>\n",
    "       [3, 4],<br>\n",
    "       [5, 6],<br>\n",
    "       [7, 8]])"
   ]
  },
  {
   "cell_type": "markdown",
   "metadata": {},
   "source": [
    "array([[1, 2, 5, 6],<br>\n",
    "       [3, 4, 7, 8]])"
   ]
  },
  {
   "cell_type": "markdown",
   "metadata": {},
   "source": [
    "array([[ 1,  2,  9],<br>\n",
    "       [ 3,  4, 10]])"
   ]
  },
  {
   "cell_type": "code",
   "execution_count": null,
   "metadata": {},
   "outputs": [],
   "source": []
  }
 ],
 "metadata": {
  "kernelspec": {
   "display_name": "Python 3",
   "language": "python",
   "name": "python3"
  },
  "language_info": {
   "codemirror_mode": {
    "name": "ipython",
    "version": 3
   },
   "file_extension": ".py",
   "mimetype": "text/x-python",
   "name": "python",
   "nbconvert_exporter": "python",
   "pygments_lexer": "ipython3",
   "version": "3.6.5"
  }
 },
 "nbformat": 4,
 "nbformat_minor": 2
}
