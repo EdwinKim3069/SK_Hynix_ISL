{
 "cells": [
  {
   "cell_type": "markdown",
   "metadata": {},
   "source": [
    "# <div style=\"text-align: center\"> Convex optimization for machine learning: Part I</div>\n",
    "#### <div style=\"text-align: right\"> Prof. Changho Suh, TA Gyeongjo Hwang, Doyeon Kim</div>"
   ]
  },
  {
   "cell_type": "markdown",
   "metadata": {},
   "source": [
    "# 1. Numpy\n",
    "\n",
    "* **Num**erical **Py**thon의 약자\n",
    "* 파이썬으로 머신러닝을 한다면 필수적인 라이브러리\n",
    "* 수치데이터를 다루는데 효율적이고 높은 성능을 제공함\n",
    "* 스칼라 연산과 비슷한 속도로 연산을 수행함\n",
    "* 배열을 요소별로 조작하지 않아도 요소별 연산(Element-wise operation)이 가능 - 브로드캐스팅(Broadcasting)\n",
    "* ndarray type (n - dimensional array object, 다차원 배열 객체)\n",
    "* 모든 요소가 동일한 datatype \n",
    "\n",
    "Reference: \n",
    "\n",
    "http://aikorea.org/cs231n/python-numpy-tutorial/\n",
    "\n",
    "https://nbviewer.jupyter.org/gist/FinanceData/274d1a051b8ef10379b35b3fa72dd931"
   ]
  },
  {
   "cell_type": "markdown",
   "metadata": {},
   "source": [
    "## Numpy 임포트"
   ]
  },
  {
   "cell_type": "code",
   "execution_count": 46,
   "metadata": {},
   "outputs": [],
   "source": [
    "from __future__ import print_function\n",
    "import numpy as np"
   ]
  },
  {
   "cell_type": "markdown",
   "metadata": {},
   "source": [
    "## ndarray 생성"
   ]
  },
  {
   "cell_type": "code",
   "execution_count": 2,
   "metadata": {},
   "outputs": [
    {
     "name": "stdout",
     "output_type": "stream",
     "text": [
      "[10 20 30]\n",
      "<type 'numpy.ndarray'>\n",
      "int64\n",
      "('Dimension of ar : ', 1)\n",
      "('Shape of ar : ', (3,))\n"
     ]
    }
   ],
   "source": [
    "# 리스트로 부터 1차원 배열 생성\n",
    "\n",
    "ar = np.array([10, 20, 30])\n",
    "\n",
    "print(ar)\n",
    "print(type(ar))\n",
    "print(ar.dtype)\n",
    "print('Dimension of ar : ', ar.ndim)\n",
    "print('Shape of ar : ', ar.shape)"
   ]
  },
  {
   "cell_type": "code",
   "execution_count": 3,
   "metadata": {},
   "outputs": [
    {
     "name": "stdout",
     "output_type": "stream",
     "text": [
      "[[10. 20. 30.]\n",
      " [60. 70. 80.]]\n",
      "<type 'numpy.ndarray'>\n",
      "float64\n",
      "('Dimension of ar : ', 2)\n",
      "('Shape of ar : ', (2, 3))\n"
     ]
    }
   ],
   "source": [
    "# 리스트로 부터 2차원 배열 생성\n",
    "\n",
    "ar = np.array([[10, 20, 30], [60, 70, 80]], dtype=np.float64)\n",
    "\n",
    "print(ar)\n",
    "print(type(ar))\n",
    "print(ar.dtype)\n",
    "print('Dimension of ar : ', ar.ndim)\n",
    "print('Shape of ar : ', ar.shape)"
   ]
  },
  {
   "cell_type": "code",
   "execution_count": 4,
   "metadata": {
    "scrolled": true
   },
   "outputs": [
    {
     "name": "stdout",
     "output_type": "stream",
     "text": [
      "[[0. 0.]\n",
      " [0. 0.]]\n",
      "~~~~~~~~~~~~~~~~~~~~~~~~~~~~~~\n",
      "[[1. 1.]]\n",
      "~~~~~~~~~~~~~~~~~~~~~~~~~~~~~~\n",
      "[[7 7]\n",
      " [7 7]]\n",
      "~~~~~~~~~~~~~~~~~~~~~~~~~~~~~~\n",
      "[[1. 0.]\n",
      " [0. 1.]]\n",
      "~~~~~~~~~~~~~~~~~~~~~~~~~~~~~~\n",
      "[[0.60652877 0.83259171]\n",
      " [0.07911487 0.25752438]]\n"
     ]
    }
   ],
   "source": [
    "# 리스트가 아니더라도 Numpy는 배열을 만들기 위한 다양한 함수를 제공\n",
    "\n",
    "a = np.zeros((2, 2)) # 모든 값이 0인 shape이 (2, 2)인 배열 생성\n",
    "print(a)\n",
    "print('~'*30)\n",
    "\n",
    "b = np.ones((1, 2)) # 모든 값이 1인 배열 생성\n",
    "print(b)\n",
    "print('~'*30)\n",
    "\n",
    "c = np.full((2, 2), 7) # 모든 값이 특정 상수인 배열 생성\n",
    "print(c)\n",
    "print('~'*30)\n",
    "\n",
    "d = np.eye(2) # 2x2 단위행렬 생성\n",
    "print(d)\n",
    "print('~'*30)\n",
    "\n",
    "e = np.random.random((2, 2)) # 임의의 값으로 채워진 배열 생성\n",
    "print(e)"
   ]
  },
  {
   "cell_type": "markdown",
   "metadata": {},
   "source": [
    "## 다양한 생성방법\n",
    " - np.arange() 메소드로 생성\n",
    " - np.asarray() - 기존의 array로 부터 ndarray를 생성"
   ]
  },
  {
   "cell_type": "code",
   "execution_count": 5,
   "metadata": {},
   "outputs": [
    {
     "name": "stdout",
     "output_type": "stream",
     "text": [
      "[0 1 2 3 4 5 6 7 8 9]\n",
      "~~~~~~~~~~~~~~~~~~~~~~~~~~~~~~~~~~~~~~~~\n",
      "[1 3 5 7]\n",
      "~~~~~~~~~~~~~~~~~~~~~~~~~~~~~~~~~~~~~~~~\n",
      "[ 0.          0.52631579  1.05263158  1.57894737  2.10526316  2.63157895\n",
      "  3.15789474  3.68421053  4.21052632  4.73684211  5.26315789  5.78947368\n",
      "  6.31578947  6.84210526  7.36842105  7.89473684  8.42105263  8.94736842\n",
      "  9.47368421 10.        ]\n",
      "~~~~~~~~~~~~~~~~~~~~~~~~~~~~~~~~~~~~~~~~\n",
      "[0.  0.5 1.  1.5 2.  2.5 3.  3.5 4.  4.5 5.  5.5 6.  6.5 7.  7.5 8.  8.5\n",
      " 9.  9.5]\n"
     ]
    }
   ],
   "source": [
    "# 0 ... n-1\n",
    "ar = np.arange(10)\n",
    "print(ar)\n",
    "print('~'*40)\n",
    "\n",
    "# [start], (end), step\n",
    "ar = np.arange(1, 9, 2)\n",
    "print(ar)\n",
    "print('~'*40)\n",
    "\n",
    "# [start], [end], number of points\n",
    "ar = np.linspace(0, 10, 20)\n",
    "print(ar)\n",
    "print('~'*40)\n",
    "\n",
    "# [start], [end], number of points\n",
    "ar = np.linspace(0, 10, 20, endpoint=False)\n",
    "print(ar)"
   ]
  },
  {
   "cell_type": "code",
   "execution_count": 6,
   "metadata": {},
   "outputs": [
    {
     "name": "stdout",
     "output_type": "stream",
     "text": [
      "[0 1 2 3 4 5 6 7 8 9]\n",
      "~~~~~~~~~~~~~~~~~~~~~~~~~~~~~~\n",
      "('a:', array([0, 1, 2, 3, 4, 0, 6, 7, 8, 9]))\n",
      "('b:', array([0, 1, 2, 3, 4, 0, 6, 7, 8, 9]))\n"
     ]
    }
   ],
   "source": [
    "a = np.arange(10)\n",
    "print(a)\n",
    "print('~'*30)\n",
    "\n",
    "# 객체를 복사하지 않고 서로 공유한다.\n",
    "# b를 바꾸면 a에서도 바뀜\n",
    "b = np.asarray(a)\n",
    "b[5] = 0\n",
    "print('a:', a)\n",
    "print('b:', b)"
   ]
  },
  {
   "cell_type": "markdown",
   "metadata": {},
   "source": [
    "## ndarray.reshape()\n",
    " - array의 shape을 바꿔주는 메소드"
   ]
  },
  {
   "cell_type": "code",
   "execution_count": 7,
   "metadata": {},
   "outputs": [
    {
     "data": {
      "text/plain": [
       "array([1, 2, 3, 4, 5, 6, 7, 8, 9])"
      ]
     },
     "execution_count": 7,
     "metadata": {},
     "output_type": "execute_result"
    }
   ],
   "source": [
    "np.arange(1, 10)"
   ]
  },
  {
   "cell_type": "code",
   "execution_count": 8,
   "metadata": {},
   "outputs": [
    {
     "name": "stdout",
     "output_type": "stream",
     "text": [
      "[[1 2 3]\n",
      " [4 5 6]\n",
      " [7 8 9]]\n"
     ]
    }
   ],
   "source": [
    "ar = np.arange(1, 10).reshape(3, 3)\n",
    "print(ar)"
   ]
  },
  {
   "cell_type": "markdown",
   "metadata": {},
   "source": [
    "## 기본적인 Numpy 연산\n",
    "* 벡터 및 행렬연산\n",
    "* 기본적인 연산은 배열의 각 요소별로 동작하거나 Numpy내장 함수를 통해 동작함\n",
    "* 브로드캐스팅(Broadcasting)"
   ]
  },
  {
   "cell_type": "code",
   "execution_count": 9,
   "metadata": {},
   "outputs": [
    {
     "name": "stdout",
     "output_type": "stream",
     "text": [
      "[[ 6.  8.]\n",
      " [10. 12.]]\n",
      "[[ 6.  8.]\n",
      " [10. 12.]]\n"
     ]
    }
   ],
   "source": [
    "x = np.array([[1, 2], [3, 4]], dtype=np.float64)\n",
    "y = np.array([[5, 6], [7, 8]], dtype=np.float64)\n",
    "\n",
    "# 요소별 합\n",
    "print(x + y)\n",
    "print(np.add(x, y))"
   ]
  },
  {
   "cell_type": "code",
   "execution_count": 10,
   "metadata": {},
   "outputs": [
    {
     "name": "stdout",
     "output_type": "stream",
     "text": [
      "[[-4. -4.]\n",
      " [-4. -4.]]\n",
      "[[-4. -4.]\n",
      " [-4. -4.]]\n"
     ]
    }
   ],
   "source": [
    "# 요소별 차\n",
    "print(x - y)\n",
    "print(np.subtract(x, y))"
   ]
  },
  {
   "cell_type": "code",
   "execution_count": 11,
   "metadata": {},
   "outputs": [
    {
     "name": "stdout",
     "output_type": "stream",
     "text": [
      "[[ 5. 12.]\n",
      " [21. 32.]]\n",
      "[[ 5. 12.]\n",
      " [21. 32.]]\n"
     ]
    }
   ],
   "source": [
    "# 요소별 곱\n",
    "print(x * y)\n",
    "print(np.multiply(x, y))"
   ]
  },
  {
   "cell_type": "code",
   "execution_count": 12,
   "metadata": {},
   "outputs": [
    {
     "name": "stdout",
     "output_type": "stream",
     "text": [
      "[[0.2        0.33333333]\n",
      " [0.42857143 0.5       ]]\n",
      "[[0.2        0.33333333]\n",
      " [0.42857143 0.5       ]]\n"
     ]
    }
   ],
   "source": [
    "# 요소별 나눗셈\n",
    "print(x / y)\n",
    "print(np.divide(x, y))"
   ]
  },
  {
   "cell_type": "code",
   "execution_count": 13,
   "metadata": {},
   "outputs": [
    {
     "name": "stdout",
     "output_type": "stream",
     "text": [
      "[[1.         1.41421356]\n",
      " [1.73205081 2.        ]]\n"
     ]
    }
   ],
   "source": [
    "# 요소별 제곱근\n",
    "print(np.sqrt(x))"
   ]
  },
  {
   "cell_type": "code",
   "execution_count": 14,
   "metadata": {},
   "outputs": [
    {
     "name": "stdout",
     "output_type": "stream",
     "text": [
      "[[ 1.  8.]\n",
      " [27. 64.]]\n",
      "[[ 1.  8.]\n",
      " [27. 64.]]\n"
     ]
    }
   ],
   "source": [
    "# 요소별 거듭제곱\n",
    "print(x ** 3)\n",
    "print(np.power(x, 3))"
   ]
  },
  {
   "cell_type": "markdown",
   "metadata": {},
   "source": [
    "### **벡터의 내적 및 행렬 곱**\n",
    " - 주로 벡터의 내적은 **np.dot()** 혹은 **ndarray.dot()**\n",
    " - 행렬의 곱은 **np.matmul()** 혹은 **@** 사용 (np.dot()써도 상관없음)"
   ]
  },
  {
   "cell_type": "code",
   "execution_count": 15,
   "metadata": {},
   "outputs": [
    {
     "name": "stdout",
     "output_type": "stream",
     "text": [
      "219\n",
      "219\n"
     ]
    }
   ],
   "source": [
    "# 벡터의 내적은 np.dot 혹은 ndarray.dot 함수를 사용\n",
    "v = np.array([9, 10])\n",
    "w = np.array([11, 12])\n",
    "\n",
    "print(np.dot(v, w))\n",
    "print(v.dot(w))"
   ]
  },
  {
   "cell_type": "code",
   "execution_count": 18,
   "metadata": {},
   "outputs": [
    {
     "name": "stdout",
     "output_type": "stream",
     "text": [
      "[[19 22]\n",
      " [43 50]]\n",
      "[[19 22]\n",
      " [43 50]]\n"
     ]
    }
   ],
   "source": [
    "# 행렬의 곱은 np.matmul() 혹은 np.dot(), python3에서는 @로 대체 가능\n",
    "x = np.array([[1, 2], [3, 4]])\n",
    "y = np.array([[5, 6], [7, 8]])\n",
    "\n",
    "print(np.matmul(x, y))\n",
    "print(np.dot(x,y))"
   ]
  },
  {
   "cell_type": "code",
   "execution_count": 19,
   "metadata": {},
   "outputs": [
    {
     "name": "stdout",
     "output_type": "stream",
     "text": [
      "[[19 22]\n",
      " [43 50]]\n",
      "[[19 22]\n",
      " [43 50]]\n"
     ]
    }
   ],
   "source": [
    "# np.dot()도 상관없음\n",
    "print(x.dot(y))\n",
    "print(np.dot(x, y))"
   ]
  },
  {
   "cell_type": "code",
   "execution_count": 28,
   "metadata": {},
   "outputs": [
    {
     "name": "stdout",
     "output_type": "stream",
     "text": [
      "x:\n",
      "[[ 0  1  2]\n",
      " [10 11 12]\n",
      " [20 21 22]\n",
      " [30 31 32]]\n",
      "Transpose of x\n",
      "[[ 0 10 20 30]\n",
      " [ 1 11 21 31]\n",
      " [ 2 12 22 32]]\n",
      "~~~~~~~~~~~~~~~~~~~~\n",
      "v:\n",
      "[ 9 10]\n",
      "Transpose of v:\n",
      "[ 9 10]\n"
     ]
    }
   ],
   "source": [
    "# 전치(Transpose)\n",
    "print('x:')\n",
    "print(x)\n",
    "print('Transpose of x')\n",
    "print(x.T)\n",
    "print('~'*20)\n",
    "\n",
    "# 단, 벡터를 전치할 경우 아무일도 일어나지 않음\n",
    "print('v:')\n",
    "print(v)\n",
    "print('Transpose of v:')\n",
    "print(v.T)"
   ]
  },
  {
   "cell_type": "markdown",
   "metadata": {},
   "source": [
    "## Broadcasting\n",
    "* Numpy에서 shape이 다른 배열 간에도 산술 연산을 가능하게 하는 메커니즘\n",
    "* Numpy의 모든 오소별 연산은 브로드캐스팅을 지원한다.\n",
    "\n",
    "<img src=\"./figures/slicing3.png\" width=\"600\" height=\"700\" align=\"left\"/>"
   ]
  },
  {
   "cell_type": "code",
   "execution_count": 29,
   "metadata": {},
   "outputs": [
    {
     "name": "stdout",
     "output_type": "stream",
     "text": [
      "[[ 0  2  4]\n",
      " [10 12 14]\n",
      " [20 22 24]\n",
      " [30 32 34]]\n"
     ]
    }
   ],
   "source": [
    "x = np.array([[0, 1, 2], \n",
    "              [10, 11, 12], \n",
    "              [20, 21, 22], \n",
    "              [30, 31, 32]])\n",
    "y = np.array([0, 1, 2])\n",
    "\n",
    "# 벡터 y를 행렬 x의 각 행에 더하고 싶을 때 브로드캐스팅 활용\n",
    "print(x + y)"
   ]
  },
  {
   "cell_type": "code",
   "execution_count": 30,
   "metadata": {},
   "outputs": [
    {
     "name": "stdout",
     "output_type": "stream",
     "text": [
      "('x shape: ', (4, 3))\n",
      "[[ 0  1  2]\n",
      " [10 11 12]\n",
      " [20 21 22]\n",
      " [30 31 32]]\n",
      "('z shape: ', (4, 1))\n",
      "[[0]\n",
      " [1]\n",
      " [2]\n",
      " [3]]\n",
      "~~~~~~~~~~\n",
      "x+z: \n",
      "[[ 0  1  2]\n",
      " [11 12 13]\n",
      " [22 23 24]\n",
      " [33 34 35]]\n",
      "~~~~~~~~~~\n",
      "('result of x+y shape: ', (4, 3))\n"
     ]
    }
   ],
   "source": [
    "z = np.array([0, 1, 2, 3])\n",
    "z = z.reshape(4, 1) # 행 벡터에서 열 벡터로 바꾸기\n",
    "\n",
    "print('x shape: ', x.shape)\n",
    "print(x)\n",
    "print('z shape: ', z.shape)\n",
    "print(z)\n",
    "print('~'*10)\n",
    "print('x+z: ')\n",
    "print(x + z)\n",
    "print('~'*10)\n",
    "print('result of x+y shape: ', (x+z).shape)"
   ]
  },
  {
   "cell_type": "code",
   "execution_count": 31,
   "metadata": {},
   "outputs": [
    {
     "name": "stdout",
     "output_type": "stream",
     "text": [
      "('y shape: ', (3,))\n",
      "[0 1 2]\n",
      "('w shape: ', (4, 1))\n",
      "[[ 0]\n",
      " [10]\n",
      " [20]\n",
      " [30]]\n",
      "~~~~~~~~~~\n",
      "y+w: \n",
      "[[ 0  1  2]\n",
      " [10 11 12]\n",
      " [20 21 22]\n",
      " [30 31 32]]\n",
      "~~~~~~~~~~\n",
      "('result of y+w shape: ', (4, 3))\n"
     ]
    }
   ],
   "source": [
    "w = np.array([0, 10, 20, 30])\n",
    "w = w.reshape(4, 1)\n",
    "\n",
    "print('y shape: ', y.shape)\n",
    "print(y)\n",
    "print('w shape: ', w.shape)\n",
    "print(w)\n",
    "print('~'*10)\n",
    "print('y+w: ')\n",
    "print(y + w)\n",
    "print('~'*10)\n",
    "print('result of y+w shape: ', (y+w).shape)"
   ]
  },
  {
   "cell_type": "code",
   "execution_count": 32,
   "metadata": {},
   "outputs": [
    {
     "name": "stdout",
     "output_type": "stream",
     "text": [
      "x: \n",
      "[[ 0  1  2]\n",
      " [10 11 12]\n",
      " [20 21 22]\n",
      " [30 31 32]]\n",
      "x+10: \n",
      "[[10 11 12]\n",
      " [20 21 22]\n",
      " [30 31 32]\n",
      " [40 41 42]]\n"
     ]
    }
   ],
   "source": [
    "# Numpy 배열 뿐 아니라 scalar와도 연산가능\n",
    "print('x: ')\n",
    "print(x)\n",
    "print('x+10: ')\n",
    "print(x + 10)"
   ]
  },
  {
   "cell_type": "markdown",
   "metadata": {},
   "source": [
    "## Indexing & Slicing\n",
    "* 파이썬 리스트나 튜플과 마찬가지로 인덱싱, 슬라이싱이 가능\n",
    "* 특정 영역을 지정하거나 잘래냄\n",
    "* Numpy배열은 다차원인 경우가 많으므로 각 차원별로 어떻게 슬라이싱 할 지 명확히 해야함"
   ]
  },
  {
   "cell_type": "code",
   "execution_count": 33,
   "metadata": {
    "scrolled": true
   },
   "outputs": [
    {
     "name": "stdout",
     "output_type": "stream",
     "text": [
      "[[ 0  1  2  3]\n",
      " [ 4  5  6  7]\n",
      " [ 8  9 10 11]\n",
      " [12 13 14 15]]\n",
      "~~~~~~~~~~~~~~~~~~~~\n",
      "[0 1 2 3]\n",
      "~~~~~~~~~~~~~~~~~~~~\n",
      "5\n",
      "~~~~~~~~~~~~~~~~~~~~\n"
     ]
    }
   ],
   "source": [
    "# (34 4)의 shape을 가진 array 생성\n",
    "ar = np.arange(16).reshape(4, 4)\n",
    "\n",
    "print(ar)\n",
    "print('~'*20)\n",
    "print(ar[0])\n",
    "print('~'*20)\n",
    "print(ar[1, 1])\n",
    "print('~'*20)"
   ]
  },
  {
   "cell_type": "markdown",
   "metadata": {},
   "source": [
    "---\n",
    "* ### 슬라이싱 예시\n",
    "<img src=\"./figures/slicing2.png\" width=\"500\" height=\"500\" align=\"left\"/>"
   ]
  },
  {
   "cell_type": "markdown",
   "metadata": {},
   "source": [
    "<img src=\"./figures/slicing.png\" width=\"700\" height=\"500\" align=\"left\"/>"
   ]
  },
  {
   "cell_type": "code",
   "execution_count": 34,
   "metadata": {},
   "outputs": [
    {
     "data": {
      "text/plain": [
       "array([[ 1,  2,  3,  4],\n",
       "       [ 5,  6,  7,  8],\n",
       "       [ 9, 10, 11, 12]])"
      ]
     },
     "execution_count": 34,
     "metadata": {},
     "output_type": "execute_result"
    }
   ],
   "source": [
    "# (3, 4)의 shape을 가진 array 생성\n",
    "a = np.arange(1, 13).reshape(3, 4)\n",
    "a"
   ]
  },
  {
   "cell_type": "code",
   "execution_count": 35,
   "metadata": {},
   "outputs": [
    {
     "data": {
      "text/plain": [
       "array([[ 2,  4],\n",
       "       [10, 12]])"
      ]
     },
     "execution_count": 35,
     "metadata": {},
     "output_type": "execute_result"
    }
   ],
   "source": [
    "a[0:3:2, 1:4:2]"
   ]
  },
  {
   "cell_type": "markdown",
   "metadata": {},
   "source": [
    "* **인덱싱 & 슬라이싱된 배열을 수정하면 원본 배열 역시 수정됨**"
   ]
  },
  {
   "cell_type": "code",
   "execution_count": 36,
   "metadata": {},
   "outputs": [
    {
     "data": {
      "text/plain": [
       "array([[ 1, 11,  3, 12],\n",
       "       [ 5,  6,  7,  8],\n",
       "       [ 9, 13, 11, 14]])"
      ]
     },
     "execution_count": 36,
     "metadata": {},
     "output_type": "execute_result"
    }
   ],
   "source": [
    "a[0:3:2, 1:4:2] = np.arange(11, 15).reshape(2, 2)\n",
    "a"
   ]
  },
  {
   "cell_type": "code",
   "execution_count": 37,
   "metadata": {},
   "outputs": [
    {
     "data": {
      "text/plain": [
       "array([[ 1, 11,  3, 12],\n",
       "       [ 5,  6, 15,  8],\n",
       "       [ 9, 13, 11, 14]])"
      ]
     },
     "execution_count": 37,
     "metadata": {},
     "output_type": "execute_result"
    }
   ],
   "source": [
    "a[1, 2] = 15\n",
    "a"
   ]
  },
  {
   "cell_type": "code",
   "execution_count": 38,
   "metadata": {},
   "outputs": [
    {
     "data": {
      "text/plain": [
       "array([[ 1, 11],\n",
       "       [ 5,  6],\n",
       "       [ 9, 13]])"
      ]
     },
     "execution_count": 38,
     "metadata": {},
     "output_type": "execute_result"
    }
   ],
   "source": [
    "a[:, :2]"
   ]
  },
  {
   "cell_type": "code",
   "execution_count": 39,
   "metadata": {},
   "outputs": [
    {
     "name": "stdout",
     "output_type": "stream",
     "text": [
      "[[ 5  6 15  8]]\n",
      "----------------------------------------\n",
      "[[11  3]\n",
      " [ 6 15]\n",
      " [13 11]]\n"
     ]
    }
   ],
   "source": [
    "# -1은 마지막 요소를 가르키며 -2, -3, ..은 뒤에서 두번 째 세번 째 ..  요소 이다.\n",
    "print(a[1:-1])\n",
    "print('-'*40)\n",
    "print(a[:, 1:-1])"
   ]
  },
  {
   "cell_type": "markdown",
   "metadata": {},
   "source": [
    "## Dimension을 그대로 유지하는 슬라이싱"
   ]
  },
  {
   "cell_type": "code",
   "execution_count": 47,
   "metadata": {},
   "outputs": [
    {
     "name": "stdout",
     "output_type": "stream",
     "text": [
      "[ 5  6 15  8]\n",
      "shape : (4,)\n",
      "dim : 1  -> Dimension이 한 단계 낮춰짐\n",
      "[[ 5  6 15  8]]\n",
      "shape : (1, 4)\n",
      "dim : 2  -> Dimension 유지\n"
     ]
    }
   ],
   "source": [
    "print(a[1, :])\n",
    "print('shape :', a[1,:].shape)\n",
    "print('dim :', a[1,:].ndim, end=' ')\n",
    "print(' -> Dimension이 한 단계 낮춰짐')\n",
    "print(a[1:2, :])  # a[[1], :] 도 가능\n",
    "print('shape :', a[1:2, :].shape)\n",
    "print('dim :', a[1:2, :].ndim, end=' ')\n",
    "print(' -> Dimension 유지')"
   ]
  },
  {
   "cell_type": "code",
   "execution_count": 48,
   "metadata": {},
   "outputs": [
    {
     "name": "stdout",
     "output_type": "stream",
     "text": [
      "[11  6 13]\n",
      "shape : (3,)\n",
      "dim : 1  -> Dimension이 한 단계 낮춰짐\n",
      "[[11]\n",
      " [ 6]\n",
      " [13]]\n",
      "shape : (3, 1)\n",
      "dim : 2  -> Dimension 유지\n"
     ]
    }
   ],
   "source": [
    "# Column slicing도 마찬가지\n",
    "print(a[:, 1])\n",
    "print('shape :', a[:, 1].shape)\n",
    "print('dim :', a[:, 1].ndim, end=' ')\n",
    "print(' -> Dimension이 한 단계 낮춰짐')\n",
    "print(a[:, 1:2])  # a[:, [1]] 도 가능\n",
    "print('shape :', a[:, 1:2].shape)\n",
    "print('dim :', a[:, 1:2].ndim, end=' ')\n",
    "print(' -> Dimension 유지')"
   ]
  },
  {
   "cell_type": "markdown",
   "metadata": {},
   "source": [
    "## 정수배열 인덱싱"
   ]
  },
  {
   "cell_type": "code",
   "execution_count": 49,
   "metadata": {},
   "outputs": [
    {
     "data": {
      "text/plain": [
       "array([[ 1,  2,  3],\n",
       "       [ 4,  5,  6],\n",
       "       [ 7,  8,  9],\n",
       "       [10, 11, 12]])"
      ]
     },
     "execution_count": 49,
     "metadata": {},
     "output_type": "execute_result"
    }
   ],
   "source": [
    "a = np.arange(1, 13).reshape(4, 3)\n",
    "a"
   ]
  },
  {
   "cell_type": "code",
   "execution_count": 50,
   "metadata": {},
   "outputs": [
    {
     "data": {
      "text/plain": [
       "array([[1, 2, 3],\n",
       "       [4, 5, 6],\n",
       "       [1, 2, 3],\n",
       "       [7, 8, 9]])"
      ]
     },
     "execution_count": 50,
     "metadata": {},
     "output_type": "execute_result"
    }
   ],
   "source": [
    "idx = np.array([0, 1, 0, 2])\n",
    "a[idx]"
   ]
  },
  {
   "cell_type": "code",
   "execution_count": 51,
   "metadata": {},
   "outputs": [
    {
     "data": {
      "text/plain": [
       "array([ 1,  5,  7, 12])"
      ]
     },
     "execution_count": 51,
     "metadata": {},
     "output_type": "execute_result"
    }
   ],
   "source": [
    "# b에 저장된 인덱스를 이용해 각 행에서 하나의 요소를 선택\n",
    "a[np.arange(4), idx]"
   ]
  },
  {
   "cell_type": "code",
   "execution_count": 52,
   "metadata": {
    "scrolled": true
   },
   "outputs": [
    {
     "data": {
      "text/plain": [
       "array([[11,  2,  3],\n",
       "       [ 4, 15,  6],\n",
       "       [17,  8,  9],\n",
       "       [10, 11, 22]])"
      ]
     },
     "execution_count": 52,
     "metadata": {},
     "output_type": "execute_result"
    }
   ],
   "source": [
    "# b에 저장된 인덱스를 이용해 각 행에서 하나의 요소를 변경\n",
    "a[np.arange(4), idx] += 10\n",
    "a"
   ]
  },
  {
   "cell_type": "markdown",
   "metadata": {},
   "source": [
    "## Boolean 배열 인덱싱(Masking)"
   ]
  },
  {
   "cell_type": "code",
   "execution_count": 53,
   "metadata": {},
   "outputs": [
    {
     "data": {
      "text/plain": [
       "array([[1, 2, 3],\n",
       "       [4, 5, 6],\n",
       "       [7, 8, 9]])"
      ]
     },
     "execution_count": 53,
     "metadata": {},
     "output_type": "execute_result"
    }
   ],
   "source": [
    "a = np.arange(1, 10).reshape(3, 3)\n",
    "a"
   ]
  },
  {
   "cell_type": "code",
   "execution_count": 54,
   "metadata": {},
   "outputs": [
    {
     "data": {
      "text/plain": [
       "array([[False,  True, False],\n",
       "       [ True, False,  True],\n",
       "       [False,  True, False]])"
      ]
     },
     "execution_count": 54,
     "metadata": {},
     "output_type": "execute_result"
    }
   ],
   "source": [
    "# 요소별로 논리 연산이 가능\n",
    "# 논리 연산결과에 따라 요소별로 True, False 결과를 반환\n",
    "# Ex) 요소가 짝수인지 아닌지 말해줌\n",
    "a % 2 == 0"
   ]
  },
  {
   "cell_type": "code",
   "execution_count": 55,
   "metadata": {},
   "outputs": [
    {
     "data": {
      "text/plain": [
       "array([2, 4, 6, 8])"
      ]
     },
     "execution_count": 55,
     "metadata": {},
     "output_type": "execute_result"
    }
   ],
   "source": [
    "# 불리언 배열 인덱싱을 통해 bool_idx에서\n",
    "# 참 값을 가지는 요소로 구성되는\n",
    "# rank 1인 배열을 구성할 수 있음\n",
    "a[a%2==0]"
   ]
  },
  {
   "cell_type": "markdown",
   "metadata": {},
   "source": [
    "## 데이터 타입 바꾸기 (ndarray.astype method)"
   ]
  },
  {
   "cell_type": "code",
   "execution_count": 56,
   "metadata": {},
   "outputs": [
    {
     "name": "stdout",
     "output_type": "stream",
     "text": [
      "int64\n",
      "float64\n"
     ]
    }
   ],
   "source": [
    "print(a.dtype)\n",
    "print(a.astype(np.float).dtype)"
   ]
  },
  {
   "cell_type": "markdown",
   "metadata": {},
   "source": [
    "# 2. Matplotlib 기초\n",
    "\n",
    "\n",
    "* Reference\n",
    "\n",
    "https://matplotlib.org/\n",
    " \n",
    "https://nbviewer.jupyter.org/gist/FinanceData/3ae09e20d1431f5e417e84f89ae77e9b"
   ]
  },
  {
   "cell_type": "markdown",
   "metadata": {},
   "source": [
    "* ## Plot"
   ]
  },
  {
   "cell_type": "code",
   "execution_count": 59,
   "metadata": {},
   "outputs": [],
   "source": [
    "import matplotlib.pyplot as plt"
   ]
  },
  {
   "cell_type": "code",
   "execution_count": 60,
   "metadata": {},
   "outputs": [],
   "source": [
    "plt.rcParams['figure.figsize'] = (12, 8)"
   ]
  },
  {
   "cell_type": "code",
   "execution_count": 61,
   "metadata": {},
   "outputs": [
    {
     "data": {
      "image/png": "[encoded data removed]",
      "text/plain": [
       "<Figure size 864x576 with 1 Axes>"
      ]
     },
     "metadata": {},
     "output_type": "display_data"
    }
   ],
   "source": [
    "# 사인과 코사인 곡선의 x,y 좌표를 계산\n",
    "x = np.arange(- np.pi, 3 * np.pi, 0.1)\n",
    "y = np.sin(x)\n",
    "\n",
    "# matplotlib를 이용해 점들을 그리기\n",
    "plt.plot(x, y)\n",
    "plt.show()"
   ]
  },
  {
   "cell_type": "markdown",
   "metadata": {},
   "source": [
    "---\n",
    "## 다양한 plot기능\n",
    "- 선 색깔 바꾸기\n",
    "- 범례 넣기\n",
    "- x축 y축 레이블 넣기\n",
    "- 글자크기 바꾸기\n",
    "- ticks 바꾸기\n",
    "- grid켜기, x축 y축 그리기\n",
    "- x값, y값 범위 지정하기"
   ]
  },
  {
   "cell_type": "code",
   "execution_count": 62,
   "metadata": {},
   "outputs": [
    {
     "data": {
      "image/png": "[encoded data removed]",
      "text/plain": [
       "<Figure size 864x576 with 1 Axes>"
      ]
     },
     "metadata": {},
     "output_type": "display_data"
    }
   ],
   "source": [
    "plt.plot(x, y, color='b', label='sin function', linewidth=3)\n",
    "plt.plot(x, np.cos(x), color='r', label='cos function', linestyle='-.')\n",
    "plt.legend(fontsize=14)\n",
    "plt.title('sin and cos', fontsize=15)\n",
    "plt.axvline(x=0, color='black', linewidth=2)\n",
    "plt.axhline(y=0, color='black', linewidth=2)\n",
    "plt.xlabel('x', fontsize=14)\n",
    "plt.ylabel('sin(cos)', fontsize=14)\n",
    "plt.ylim(top=1, bottom=-1)\n",
    "plt.xlim(right=x[-1], left=x[0])\n",
    "plt.xticks((-np.pi, 0, np.pi, 2*np.pi, 3*np.pi), ('$-\\pi$', '0', '$\\pi$', '$2\\pi$', '$3\\pi$'), fontsize=14)\n",
    "plt.grid(True)\n",
    "plt.show()"
   ]
  },
  {
   "cell_type": "markdown",
   "metadata": {},
   "source": [
    "## 선 스타일에 따른 기호"
   ]
  },
  {
   "cell_type": "markdown",
   "metadata": {},
   "source": [
    "<img src=\"./figures/line_char.png\" width=\"500\" height=\"500\" align=\"left\"/>\n",
    "<img src=\"./figures/color.png\" width=\"500\" height=\"500\" align=\"left\"/>"
   ]
  },
  {
   "cell_type": "markdown",
   "metadata": {},
   "source": [
    "## Subplots\n",
    " - 여러개의 그래프를 동시에 plot"
   ]
  },
  {
   "cell_type": "code",
   "execution_count": 63,
   "metadata": {},
   "outputs": [
    {
     "data": {
      "image/png": "[encoded data removed]",
      "text/plain": [
       "<Figure size 864x576 with 2 Axes>"
      ]
     },
     "metadata": {},
     "output_type": "display_data"
    }
   ],
   "source": [
    "x1 = np.random.randn(100).cumsum()\n",
    "x2 = np.random.randn(100).cumsum()\n",
    "plt.subplot(2, 1, 1)\n",
    "plt.plot(x1, color='b', label='x1')\n",
    "plt.legend(fontsize=13)\n",
    "plt.subplot(2, 1, 2)\n",
    "plt.plot(x2, color='r', label='x2')\n",
    "plt.legend(fontsize=13)\n",
    "plt.show()"
   ]
  },
  {
   "cell_type": "code",
   "execution_count": 64,
   "metadata": {},
   "outputs": [
    {
     "data": {
      "image/png": "[encoded data removed]",
      "text/plain": [
       "<Figure size 864x576 with 2 Axes>"
      ]
     },
     "metadata": {},
     "output_type": "display_data"
    }
   ],
   "source": [
    "x1 = np.random.randn(100).cumsum()\n",
    "x2 = np.random.randn(100).cumsum()\n",
    "plt.subplot(2, 2, 1)\n",
    "plt.plot(x1, color='b', label='x1')\n",
    "plt.legend(fontsize=13)\n",
    "plt.subplot(2, 2, 4)\n",
    "plt.plot(x2, color='r', label='x2')\n",
    "plt.legend(fontsize=13)\n",
    "plt.show()"
   ]
  },
  {
   "cell_type": "markdown",
   "metadata": {},
   "source": [
    "## 산점도"
   ]
  },
  {
   "cell_type": "code",
   "execution_count": 65,
   "metadata": {},
   "outputs": [
    {
     "data": {
      "image/png": "[encoded data removed]",
      "text/plain": [
       "<Figure size 864x576 with 1 Axes>"
      ]
     },
     "metadata": {},
     "output_type": "display_data"
    }
   ],
   "source": [
    "np.random.seed(2019)\n",
    "x1 = np.random.randn(100)\n",
    "x2 = np.random.randn(100)\n",
    "x3 = np.random.randn(100)\n",
    "x4 = np.random.randn(100)\n",
    "plt.scatter(x1, x2, color='b', marker='s', edgecolor='k')\n",
    "plt.scatter(x3, x4, color='r', marker='p', edgecolor='k')\n",
    "plt.grid(True)"
   ]
  },
  {
   "cell_type": "markdown",
   "metadata": {},
   "source": [
    "## 산점도 스타일에 따른 marker 기호 Table"
   ]
  },
  {
   "cell_type": "markdown",
   "metadata": {},
   "source": [
    "<img src=\"./figures/scatter.png\" width=\"700\" height=\"500\" align=\"left\"/>"
   ]
  },
  {
   "cell_type": "code",
   "execution_count": null,
   "metadata": {},
   "outputs": [],
   "source": []
  }
 ],
 "metadata": {
  "kernelspec": {
   "display_name": "Python 2",
   "language": "python",
   "name": "python2"
  },
  "language_info": {
   "codemirror_mode": {
    "name": "ipython",
    "version": 2
   },
   "file_extension": ".py",
   "mimetype": "text/x-python",
   "name": "python",
   "nbconvert_exporter": "python",
   "pygments_lexer": "ipython2",
   "version": "2.7.15"
  }
 },
 "nbformat": 4,
 "nbformat_minor": 2
}
